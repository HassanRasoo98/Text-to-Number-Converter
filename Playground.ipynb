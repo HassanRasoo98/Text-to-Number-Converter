{
  "cells": [
    {
      "cell_type": "markdown",
      "source": [
        "# Preparing the Letter Map"
      ],
      "metadata": {
        "id": "6TnMfVhqQOO5"
      }
    },
    {
      "cell_type": "code",
      "execution_count": 16,
      "metadata": {
        "colab": {
          "base_uri": "https://localhost:8080/"
        },
        "id": "Fv3d6vjpMqk3",
        "collapsed": true,
        "outputId": "962ceb29-f657-4e99-8ad3-256e1cede1b0"
      },
      "outputs": [
        {
          "output_type": "stream",
          "name": "stdout",
          "text": [
            "A 2\n",
            "B 22\n",
            "C 222\n",
            "D 3\n",
            "E 33\n",
            "F 333\n",
            "G 4\n",
            "H 44\n",
            "I 444\n",
            "J 5\n",
            "K 55\n",
            "L 555\n",
            "M 6\n",
            "N 66\n",
            "O 666\n",
            "P 7\n",
            "Q 77\n",
            "R 777\n",
            "S 7777\n",
            "T 8\n",
            "U 88\n",
            "V 888\n",
            "W 9\n",
            "X 99\n",
            "Y 999\n",
            "Z 9999\n"
          ]
        }
      ],
      "source": [
        "letter_map = {' ': 0}\n",
        "base = '2'\n",
        "number = ''\n",
        "\n",
        "for i in range(65, 91):\n",
        "    letter = chr(i)\n",
        "    number += base\n",
        "\n",
        "    print(chr(i), number)\n",
        "    if chr(i) not in letter_map:\n",
        "      letter_map[chr(i)] = number\n",
        "\n",
        "    if base == '7' or base == '9':\n",
        "      if len(number) == 4:\n",
        "          number = ''\n",
        "          base = int(base) + 1\n",
        "          base = str(base)\n",
        "\n",
        "    else:\n",
        "         if len(number) == 3:\n",
        "          number = ''\n",
        "          base = int(base) + 1\n",
        "          base = str(base)"
      ]
    },
    {
      "cell_type": "code",
      "execution_count": 17,
      "metadata": {
        "colab": {
          "base_uri": "https://localhost:8080/"
        },
        "id": "PqYLCcteMs05",
        "outputId": "3a441d0a-5dda-4b89-b5e1-f7350caa3d8a"
      },
      "outputs": [
        {
          "output_type": "execute_result",
          "data": {
            "text/plain": [
              "{' ': 0,\n",
              " 'A': '2',\n",
              " 'B': '22',\n",
              " 'C': '222',\n",
              " 'D': '3',\n",
              " 'E': '33',\n",
              " 'F': '333',\n",
              " 'G': '4',\n",
              " 'H': '44',\n",
              " 'I': '444',\n",
              " 'J': '5',\n",
              " 'K': '55',\n",
              " 'L': '555',\n",
              " 'M': '6',\n",
              " 'N': '66',\n",
              " 'O': '666',\n",
              " 'P': '7',\n",
              " 'Q': '77',\n",
              " 'R': '777',\n",
              " 'S': '7777',\n",
              " 'T': '8',\n",
              " 'U': '88',\n",
              " 'V': '888',\n",
              " 'W': '9',\n",
              " 'X': '99',\n",
              " 'Y': '999',\n",
              " 'Z': '9999'}"
            ]
          },
          "metadata": {},
          "execution_count": 17
        }
      ],
      "source": [
        "letter_map"
      ]
    },
    {
      "cell_type": "markdown",
      "source": [
        "# Inference"
      ],
      "metadata": {
        "id": "9aYZQPQuRV9k"
      }
    },
    {
      "cell_type": "code",
      "source": [
        "msg = 'Call me now'\n",
        "msg = msg.upper()\n",
        "\n",
        "for letter in msg:\n",
        "  print(letter_map[letter])"
      ],
      "metadata": {
        "colab": {
          "base_uri": "https://localhost:8080/"
        },
        "id": "vnDnonxPNt-l",
        "outputId": "2ba69f47-35f2-411b-9e6a-f13bb97f72b7"
      },
      "execution_count": 18,
      "outputs": [
        {
          "output_type": "stream",
          "name": "stdout",
          "text": [
            "222\n",
            "2\n",
            "555\n",
            "555\n",
            "0\n",
            "6\n",
            "33\n",
            "0\n",
            "66\n",
            "666\n",
            "9\n"
          ]
        }
      ]
    }
  ],
  "metadata": {
    "colab": {
      "provenance": []
    },
    "kernelspec": {
      "display_name": "Python 3",
      "name": "python3"
    },
    "language_info": {
      "name": "python"
    }
  },
  "nbformat": 4,
  "nbformat_minor": 0
}